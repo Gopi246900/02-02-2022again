{
 "cells": [
  {
   "cell_type": "markdown",
   "id": "ea491557",
   "metadata": {},
   "source": [
    "### TODAY SESSION ###\n"
   ]
  },
  {
   "cell_type": "markdown",
   "id": "5de77333",
   "metadata": {},
   "source": [
    "### 02-02-2022 ###"
   ]
  },
  {
   "cell_type": "markdown",
   "id": "b9f1540b",
   "metadata": {},
   "source": [
    "### INPUT AND OUTPUT METHODS ###"
   ]
  },
  {
   "cell_type": "markdown",
   "id": "58e248bd",
   "metadata": {},
   "source": [
    "- reading the data or information from the users---***input()***\n",
    "    -static input\n",
    "    -Dynamical input\n",
    "- displaying the information or data to the user----***print()***"
   ]
  },
  {
   "cell_type": "code",
   "execution_count": 1,
   "id": "9101c0dd",
   "metadata": {},
   "outputs": [
    {
     "name": "stdout",
     "output_type": "stream",
     "text": [
      "20\n",
      "30\n"
     ]
    }
   ],
   "source": [
    "a=20\n",
    "b=30\n",
    "print(a)\n",
    "print(b)"
   ]
  },
  {
   "cell_type": "code",
   "execution_count": 2,
   "id": "3f9ab3cf",
   "metadata": {},
   "outputs": [
    {
     "name": "stdout",
     "output_type": "stream",
     "text": [
      "gopi\n"
     ]
    },
    {
     "data": {
      "text/plain": [
       "'gopi'"
      ]
     },
     "execution_count": 2,
     "metadata": {},
     "output_type": "execute_result"
    }
   ],
   "source": [
    "a=input()\n",
    "a"
   ]
  },
  {
   "cell_type": "code",
   "execution_count": 3,
   "id": "2632ab34",
   "metadata": {},
   "outputs": [
    {
     "name": "stdout",
     "output_type": "stream",
     "text": [
      "2022\n"
     ]
    },
    {
     "data": {
      "text/plain": [
       "'2022'"
      ]
     },
     "execution_count": 3,
     "metadata": {},
     "output_type": "execute_result"
    }
   ],
   "source": [
    "a=input()\n",
    "a"
   ]
  },
  {
   "cell_type": "code",
   "execution_count": 4,
   "id": "8f4ff9e6",
   "metadata": {},
   "outputs": [
    {
     "name": "stdout",
     "output_type": "stream",
     "text": [
      "enter user values202222\n"
     ]
    },
    {
     "data": {
      "text/plain": [
       "'202222'"
      ]
     },
     "execution_count": 4,
     "metadata": {},
     "output_type": "execute_result"
    }
   ],
   "source": [
    "a=input(\"enter user values\")\n",
    "a"
   ]
  },
  {
   "cell_type": "code",
   "execution_count": 5,
   "id": "46709c50",
   "metadata": {},
   "outputs": [
    {
     "name": "stdout",
     "output_type": "stream",
     "text": [
      "enter user values20010628.2\n"
     ]
    },
    {
     "data": {
      "text/plain": [
       "20010628.2"
      ]
     },
     "execution_count": 5,
     "metadata": {},
     "output_type": "execute_result"
    }
   ],
   "source": [
    "a=float(input(\"enter user values\"))\n",
    "a"
   ]
  },
  {
   "cell_type": "code",
   "execution_count": 6,
   "id": "e1757ddc",
   "metadata": {},
   "outputs": [
    {
     "name": "stdout",
     "output_type": "stream",
     "text": [
      "enter value20010682\n",
      "20010682\n"
     ]
    }
   ],
   "source": [
    "a=input(\"enter value\")\n",
    "print(a)"
   ]
  },
  {
   "cell_type": "code",
   "execution_count": 7,
   "id": "3ba5476b",
   "metadata": {},
   "outputs": [
    {
     "name": "stdout",
     "output_type": "stream",
     "text": [
      "20 30 50\n"
     ]
    }
   ],
   "source": [
    "a=20\n",
    "b=30\n",
    "c=50\n",
    "print(a,b,c)"
   ]
  },
  {
   "cell_type": "code",
   "execution_count": 8,
   "id": "776763aa",
   "metadata": {},
   "outputs": [
    {
     "ename": "NameError",
     "evalue": "name 'abc' is not defined",
     "output_type": "error",
     "traceback": [
      "\u001b[1;31m---------------------------------------------------------------------------\u001b[0m",
      "\u001b[1;31mNameError\u001b[0m                                 Traceback (most recent call last)",
      "\u001b[1;32m~\\AppData\\Local\\Temp/ipykernel_5352/196273590.py\u001b[0m in \u001b[0;36m<module>\u001b[1;34m\u001b[0m\n\u001b[0;32m      2\u001b[0m \u001b[0mb\u001b[0m\u001b[1;33m=\u001b[0m\u001b[1;36m30\u001b[0m\u001b[1;33m\u001b[0m\u001b[1;33m\u001b[0m\u001b[0m\n\u001b[0;32m      3\u001b[0m \u001b[0mc\u001b[0m\u001b[1;33m=\u001b[0m\u001b[1;36m50\u001b[0m\u001b[1;33m\u001b[0m\u001b[1;33m\u001b[0m\u001b[0m\n\u001b[1;32m----> 4\u001b[1;33m \u001b[0mprint\u001b[0m\u001b[1;33m(\u001b[0m\u001b[0mabc\u001b[0m\u001b[1;33m)\u001b[0m\u001b[1;33m\u001b[0m\u001b[1;33m\u001b[0m\u001b[0m\n\u001b[0m",
      "\u001b[1;31mNameError\u001b[0m: name 'abc' is not defined"
     ]
    }
   ],
   "source": [
    "a=20\n",
    "b=30\n",
    "c=50\n",
    "print(abc)"
   ]
  },
  {
   "cell_type": "code",
   "execution_count": 9,
   "id": "d1225375",
   "metadata": {},
   "outputs": [
    {
     "ename": "AttributeError",
     "evalue": "'int' object has no attribute 'b'",
     "output_type": "error",
     "traceback": [
      "\u001b[1;31m---------------------------------------------------------------------------\u001b[0m",
      "\u001b[1;31mAttributeError\u001b[0m                            Traceback (most recent call last)",
      "\u001b[1;32m~\\AppData\\Local\\Temp/ipykernel_5352/1177721690.py\u001b[0m in \u001b[0;36m<module>\u001b[1;34m\u001b[0m\n\u001b[0;32m      2\u001b[0m \u001b[0mb\u001b[0m\u001b[1;33m=\u001b[0m\u001b[1;36m30\u001b[0m\u001b[1;33m\u001b[0m\u001b[1;33m\u001b[0m\u001b[0m\n\u001b[0;32m      3\u001b[0m \u001b[0mc\u001b[0m\u001b[1;33m=\u001b[0m\u001b[1;36m50\u001b[0m\u001b[1;33m\u001b[0m\u001b[1;33m\u001b[0m\u001b[0m\n\u001b[1;32m----> 4\u001b[1;33m \u001b[0mprint\u001b[0m\u001b[1;33m(\u001b[0m\u001b[0ma\u001b[0m\u001b[1;33m.\u001b[0m\u001b[0mb\u001b[0m\u001b[1;33m.\u001b[0m\u001b[0mc\u001b[0m\u001b[1;33m)\u001b[0m\u001b[1;33m\u001b[0m\u001b[1;33m\u001b[0m\u001b[0m\n\u001b[0m",
      "\u001b[1;31mAttributeError\u001b[0m: 'int' object has no attribute 'b'"
     ]
    }
   ],
   "source": [
    "a=20\n",
    "b=30\n",
    "c=50\n",
    "print(a.b.c)"
   ]
  },
  {
   "cell_type": "code",
   "execution_count": 10,
   "id": "25428649",
   "metadata": {},
   "outputs": [
    {
     "name": "stdout",
     "output_type": "stream",
     "text": [
      "Help on built-in function print in module builtins:\n",
      "\n",
      "print(...)\n",
      "    print(value, ..., sep=' ', end='\\n', file=sys.stdout, flush=False)\n",
      "    \n",
      "    Prints the values to a stream, or to sys.stdout by default.\n",
      "    Optional keyword arguments:\n",
      "    file:  a file-like object (stream); defaults to the current sys.stdout.\n",
      "    sep:   string inserted between values, default a space.\n",
      "    end:   string appended after the last value, default a newline.\n",
      "    flush: whether to forcibly flush the stream.\n",
      "\n"
     ]
    }
   ],
   "source": [
    "help(print)"
   ]
  },
  {
   "cell_type": "code",
   "execution_count": 11,
   "id": "502ca220",
   "metadata": {},
   "outputs": [
    {
     "ename": "NameError",
     "evalue": "name 'string' is not defined",
     "output_type": "error",
     "traceback": [
      "\u001b[1;31m---------------------------------------------------------------------------\u001b[0m",
      "\u001b[1;31mNameError\u001b[0m                                 Traceback (most recent call last)",
      "\u001b[1;32m~\\AppData\\Local\\Temp/ipykernel_5352/2810742144.py\u001b[0m in \u001b[0;36m<module>\u001b[1;34m\u001b[0m\n\u001b[1;32m----> 1\u001b[1;33m \u001b[0mhelp\u001b[0m\u001b[1;33m(\u001b[0m\u001b[0mstring\u001b[0m\u001b[1;33m)\u001b[0m\u001b[1;33m\u001b[0m\u001b[1;33m\u001b[0m\u001b[0m\n\u001b[0m",
      "\u001b[1;31mNameError\u001b[0m: name 'string' is not defined"
     ]
    }
   ],
   "source": [
    "help(string)"
   ]
  },
  {
   "cell_type": "code",
   "execution_count": 14,
   "id": "11df092e",
   "metadata": {},
   "outputs": [
    {
     "name": "stdout",
     "output_type": "stream",
     "text": [
      "20,30,50\n",
      "20\n",
      "30\n",
      "50\n"
     ]
    }
   ],
   "source": [
    "a=20\n",
    "b=30\n",
    "c=50\n",
    "print(a,b,c,sep=\",\",end=\"\\n\")\n",
    "print(a)\n",
    "print(b)\n",
    "print(c)"
   ]
  },
  {
   "cell_type": "code",
   "execution_count": 15,
   "id": "11018dec",
   "metadata": {},
   "outputs": [
    {
     "name": "stdout",
     "output_type": "stream",
     "text": [
      "20,30,50\n",
      "20\n"
     ]
    }
   ],
   "source": [
    "a=20\n",
    "b=30\n",
    "c=50\n",
    "print(a,b,c,sep=\",\")\n",
    "print(a)\n"
   ]
  },
  {
   "cell_type": "code",
   "execution_count": 16,
   "id": "f1ed42d8",
   "metadata": {},
   "outputs": [
    {
     "name": "stdout",
     "output_type": "stream",
     "text": [
      "20,30,50\n"
     ]
    }
   ],
   "source": [
    "a=20\n",
    "b=30\n",
    "c=50\n",
    "print(a,b,c,sep=\",\")\n",
    "sum=a+b"
   ]
  },
  {
   "cell_type": "markdown",
   "id": "f1c18893",
   "metadata": {},
   "source": [
    "# generate the three values from user ,that values seperated with & and end with %"
   ]
  },
  {
   "cell_type": "code",
   "execution_count": 17,
   "id": "3322f363",
   "metadata": {},
   "outputs": [
    {
     "name": "stdout",
     "output_type": "stream",
     "text": [
      "enter 1st value23\n",
      "enter 2nd value63\n",
      "enter 3rd value36\n"
     ]
    },
    {
     "ename": "TypeError",
     "evalue": "'oct' is an invalid keyword argument for print()",
     "output_type": "error",
     "traceback": [
      "\u001b[1;31m---------------------------------------------------------------------------\u001b[0m",
      "\u001b[1;31mTypeError\u001b[0m                                 Traceback (most recent call last)",
      "\u001b[1;32m~\\AppData\\Local\\Temp/ipykernel_5352/4192430161.py\u001b[0m in \u001b[0;36m<module>\u001b[1;34m\u001b[0m\n\u001b[0;32m      2\u001b[0m \u001b[0mb\u001b[0m\u001b[1;33m=\u001b[0m\u001b[0minput\u001b[0m\u001b[1;33m(\u001b[0m\u001b[1;34m\"enter 2nd value\"\u001b[0m\u001b[1;33m)\u001b[0m\u001b[1;33m\u001b[0m\u001b[1;33m\u001b[0m\u001b[0m\n\u001b[0;32m      3\u001b[0m \u001b[0mc\u001b[0m\u001b[1;33m=\u001b[0m\u001b[0minput\u001b[0m\u001b[1;33m(\u001b[0m\u001b[1;34m\"enter 3rd value\"\u001b[0m\u001b[1;33m)\u001b[0m\u001b[1;33m\u001b[0m\u001b[1;33m\u001b[0m\u001b[0m\n\u001b[1;32m----> 4\u001b[1;33m \u001b[0mprint\u001b[0m\u001b[1;33m(\u001b[0m\u001b[0ma\u001b[0m\u001b[1;33m,\u001b[0m\u001b[0mb\u001b[0m\u001b[1;33m,\u001b[0m\u001b[0mc\u001b[0m\u001b[1;33m,\u001b[0m\u001b[0moct\u001b[0m\u001b[1;33m=\u001b[0m\u001b[1;34m\"$\"\u001b[0m\u001b[1;33m,\u001b[0m\u001b[0mend\u001b[0m\u001b[1;33m=\u001b[0m\u001b[1;34m\"%\"\u001b[0m\u001b[1;33m)\u001b[0m\u001b[1;33m\u001b[0m\u001b[1;33m\u001b[0m\u001b[0m\n\u001b[0m",
      "\u001b[1;31mTypeError\u001b[0m: 'oct' is an invalid keyword argument for print()"
     ]
    }
   ],
   "source": [
    "a=input(\"enter 1st value\")\n",
    "b=input(\"enter 2nd value\")\n",
    "c=input(\"enter 3rd value\")\n",
    "print(a,b,c,oct=\"$\",end=\"%\")"
   ]
  },
  {
   "cell_type": "code",
   "execution_count": 18,
   "id": "99c6a2ef",
   "metadata": {},
   "outputs": [
    {
     "name": "stdout",
     "output_type": "stream",
     "text": [
      "enter 1st value123\n",
      "enter 2nd value23\n",
      "enter 3rd value36\n",
      "123$23$36%"
     ]
    }
   ],
   "source": [
    "a=input(\"enter 1st value\")\n",
    "b=input(\"enter 2nd value\")\n",
    "c=input(\"enter 3rd value\")\n",
    "print(a,b,c,sep=\"$\",end=\"%\")"
   ]
  },
  {
   "cell_type": "markdown",
   "id": "7e520915",
   "metadata": {},
   "source": [
    "### operators\n",
    "- arthimatic operators(+,-,*,**,/,//,%)\n",
    "    - output for normal division is quotient\n",
    "    - output for the int divisionon is  or floor division is integer part of the quotient\n",
    "    - input of the moduls quotient of remainder\n",
    "- assignment operators(=)\n",
    "- comparision operators(<,>,<=,>=,==)\n",
    "- logical operators(and,or,not)\n",
    "- bitwisw operators(&,|,^)\n",
    "- identity operators(is (==),isnot(!=)\n",
    "- membership operators(in,notin)\n"
   ]
  },
  {
   "cell_type": "markdown",
   "id": "95999e2c",
   "metadata": {},
   "source": [
    "### airthmatic operators"
   ]
  },
  {
   "cell_type": "code",
   "execution_count": 19,
   "id": "251fea86",
   "metadata": {},
   "outputs": [
    {
     "name": "stdout",
     "output_type": "stream",
     "text": [
      "addtion 88\n",
      "substraction 24\n",
      "multiplication 1792\n",
      "division 1.75\n",
      "int division or floor division 1\n",
      "modulo division 24\n"
     ]
    }
   ],
   "source": [
    "a=56\n",
    "b=32\n",
    "print(\"addtion\",a+b)\n",
    "print(\"substraction\",a-b)\n",
    "print(\"multiplication\",a*b)\n",
    "print(\"division\",a/b)\n",
    "print(\"int division or floor division\",a//b)\n",
    "print(\"modulo division\",a%b)"
   ]
  },
  {
   "cell_type": "code",
   "execution_count": 20,
   "id": "6d83bd65",
   "metadata": {},
   "outputs": [
    {
     "name": "stdout",
     "output_type": "stream",
     "text": [
      "addtion 88\n",
      "substraction 24\n",
      "multiplication 1792\n",
      "division 1.75\n",
      "int division or floor division 1\n",
      "modulo division 24\n"
     ]
    }
   ],
   "source": [
    "g=56\n",
    "o=32\n",
    "print(\"addtion\",g+o)\n",
    "print(\"substraction\",g-o)\n",
    "print(\"multiplication\",g*o)\n",
    "print(\"division\",g/o)\n",
    "print(\"int division or floor division\",g//o)\n",
    "print(\"modulo division\",g%o)"
   ]
  },
  {
   "cell_type": "code",
   "execution_count": 21,
   "id": "5c5f8de6",
   "metadata": {},
   "outputs": [
    {
     "name": "stdout",
     "output_type": "stream",
     "text": [
      "addtion 88\n",
      "substraction 24\n",
      "multiplication 1792\n",
      "power 87501775260248338795649138639242377629452267851964481536\n",
      "division 1.75\n",
      "int division or floor division 1\n",
      "modulo division 24\n"
     ]
    }
   ],
   "source": [
    "g=56\n",
    "o=32\n",
    "print(\"addtion\",g+o)\n",
    "print(\"substraction\",g-o)\n",
    "print(\"multiplication\",g*o)\n",
    "print(\"power\",g**o)\n",
    "print(\"division\",g/o)\n",
    "print(\"int division or floor division\",g//o)\n",
    "print(\"modulo division\",g%o)"
   ]
  },
  {
   "cell_type": "markdown",
   "id": "3cf7e2ec",
   "metadata": {},
   "source": [
    "### Assignment operator"
   ]
  },
  {
   "cell_type": "markdown",
   "id": "e976762f",
   "metadata": {},
   "source": [
    "- it represented with =\n",
    "- leftside value of the operator(=)is called as a variable\n",
    "- rightside value of the variable(=)is called as a value"
   ]
  },
  {
   "cell_type": "code",
   "execution_count": 22,
   "id": "e9c05aa0",
   "metadata": {},
   "outputs": [
    {
     "name": "stdout",
     "output_type": "stream",
     "text": [
      "20\n",
      "50\n"
     ]
    }
   ],
   "source": [
    "a=20\n",
    "b=50\n",
    "print(a)\n",
    "print(b)"
   ]
  },
  {
   "cell_type": "markdown",
   "id": "9e41239b",
   "metadata": {},
   "source": [
    "### comparation operator"
   ]
  },
  {
   "cell_type": "code",
   "execution_count": 23,
   "id": "2b41809e",
   "metadata": {},
   "outputs": [
    {
     "data": {
      "text/plain": [
       "False"
      ]
     },
     "execution_count": 23,
     "metadata": {},
     "output_type": "execute_result"
    }
   ],
   "source": [
    "2>5"
   ]
  },
  {
   "cell_type": "code",
   "execution_count": 24,
   "id": "5178460e",
   "metadata": {},
   "outputs": [
    {
     "data": {
      "text/plain": [
       "True"
      ]
     },
     "execution_count": 24,
     "metadata": {},
     "output_type": "execute_result"
    }
   ],
   "source": [
    "2<6"
   ]
  },
  {
   "cell_type": "code",
   "execution_count": 26,
   "id": "c4d56041",
   "metadata": {},
   "outputs": [
    {
     "name": "stdout",
     "output_type": "stream",
     "text": [
      "sydhk\n"
     ]
    }
   ],
   "source": [
    "if 2>9 and 2<=6:\n",
    "    print(\"print true or false\")\n",
    "else:    \n",
    "    print(\"sydhk\")"
   ]
  },
  {
   "cell_type": "code",
   "execution_count": 27,
   "id": "b44f0547",
   "metadata": {},
   "outputs": [
    {
     "data": {
      "text/plain": [
       "False"
      ]
     },
     "execution_count": 27,
     "metadata": {},
     "output_type": "execute_result"
    }
   ],
   "source": [
    "2>=7"
   ]
  },
  {
   "cell_type": "code",
   "execution_count": 28,
   "id": "92ff9235",
   "metadata": {},
   "outputs": [
    {
     "data": {
      "text/plain": [
       "True"
      ]
     },
     "execution_count": 28,
     "metadata": {},
     "output_type": "execute_result"
    }
   ],
   "source": [
    "3<=5"
   ]
  },
  {
   "cell_type": "markdown",
   "id": "81efe829",
   "metadata": {},
   "source": [
    "### logical operators"
   ]
  },
  {
   "cell_type": "markdown",
   "id": "65f7bbfb",
   "metadata": {},
   "source": [
    "- and,or,not\n",
    "- if all the inputs are true the output is true(and).\n",
    "- if any of the inputs is true the output is true(or).\n",
    "- opposite operation fro the given one."
   ]
  },
  {
   "cell_type": "code",
   "execution_count": 29,
   "id": "24a637f1",
   "metadata": {},
   "outputs": [
    {
     "data": {
      "text/plain": [
       "False"
      ]
     },
     "execution_count": 29,
     "metadata": {},
     "output_type": "execute_result"
    }
   ],
   "source": [
    "2<5 and 3>6"
   ]
  },
  {
   "cell_type": "code",
   "execution_count": 30,
   "id": "cb88cba1",
   "metadata": {},
   "outputs": [
    {
     "data": {
      "text/plain": [
       "False"
      ]
     },
     "execution_count": 30,
     "metadata": {},
     "output_type": "execute_result"
    }
   ],
   "source": [
    "2>5 and 3<6"
   ]
  },
  {
   "cell_type": "code",
   "execution_count": 31,
   "id": "3744e147",
   "metadata": {},
   "outputs": [
    {
     "data": {
      "text/plain": [
       "True"
      ]
     },
     "execution_count": 31,
     "metadata": {},
     "output_type": "execute_result"
    }
   ],
   "source": [
    "3<9 and 4>0"
   ]
  },
  {
   "cell_type": "code",
   "execution_count": 32,
   "id": "a38c56b8",
   "metadata": {},
   "outputs": [
    {
     "data": {
      "text/plain": [
       "True"
      ]
     },
     "execution_count": 32,
     "metadata": {},
     "output_type": "execute_result"
    }
   ],
   "source": [
    "4<8 or 5>2"
   ]
  },
  {
   "cell_type": "code",
   "execution_count": 33,
   "id": "b81d335e",
   "metadata": {},
   "outputs": [
    {
     "data": {
      "text/plain": [
       "False"
      ]
     },
     "execution_count": 33,
     "metadata": {},
     "output_type": "execute_result"
    }
   ],
   "source": [
    "5>9 or 8<3"
   ]
  },
  {
   "cell_type": "code",
   "execution_count": 34,
   "id": "9f902be8",
   "metadata": {},
   "outputs": [
    {
     "data": {
      "text/plain": [
       "False"
      ]
     },
     "execution_count": 34,
     "metadata": {},
     "output_type": "execute_result"
    }
   ],
   "source": [
    "a=100\n",
    "not a"
   ]
  },
  {
   "cell_type": "markdown",
   "id": "edba4f8e",
   "metadata": {},
   "source": [
    "### bitwise operators"
   ]
  },
  {
   "cell_type": "code",
   "execution_count": 39,
   "id": "8b2a9c1a",
   "metadata": {},
   "outputs": [
    {
     "data": {
      "text/plain": [
       "2"
      ]
     },
     "execution_count": 39,
     "metadata": {},
     "output_type": "execute_result"
    }
   ],
   "source": [
    "2 & 3\n",
    "# 2- 0 0 1 0\n",
    "# 3- 0 0 1 1\n",
    "# ---------------\n",
    "#  - 0 0 1 0"
   ]
  },
  {
   "cell_type": "code",
   "execution_count": 36,
   "id": "905d4cb0",
   "metadata": {},
   "outputs": [
    {
     "data": {
      "text/plain": [
       "7"
      ]
     },
     "execution_count": 36,
     "metadata": {},
     "output_type": "execute_result"
    }
   ],
   "source": [
    "3|4"
   ]
  },
  {
   "cell_type": "code",
   "execution_count": 40,
   "id": "5dc8e021",
   "metadata": {},
   "outputs": [
    {
     "data": {
      "text/plain": [
       "16"
      ]
     },
     "execution_count": 40,
     "metadata": {},
     "output_type": "execute_result"
    }
   ],
   "source": [
    "2<<3"
   ]
  },
  {
   "cell_type": "code",
   "execution_count": 41,
   "id": "2048b643",
   "metadata": {},
   "outputs": [
    {
     "data": {
      "text/plain": [
       "0"
      ]
     },
     "execution_count": 41,
     "metadata": {},
     "output_type": "execute_result"
    }
   ],
   "source": [
    "2>>3"
   ]
  },
  {
   "cell_type": "markdown",
   "id": "cfd336d2",
   "metadata": {},
   "source": [
    "### identity operator"
   ]
  },
  {
   "cell_type": "code",
   "execution_count": 42,
   "id": "df46a30f",
   "metadata": {},
   "outputs": [
    {
     "name": "stderr",
     "output_type": "stream",
     "text": [
      "<>:1: SyntaxWarning: \"is\" with a literal. Did you mean \"==\"?\n",
      "<>:1: SyntaxWarning: \"is not\" with a literal. Did you mean \"!=\"?\n",
      "<>:1: SyntaxWarning: \"is\" with a literal. Did you mean \"==\"?\n",
      "<>:1: SyntaxWarning: \"is not\" with a literal. Did you mean \"!=\"?\n",
      "C:\\Users\\Online\\AppData\\Local\\Temp/ipykernel_5352/1988167162.py:1: SyntaxWarning: \"is\" with a literal. Did you mean \"==\"?\n",
      "  a is 100 and a is not 100\n",
      "C:\\Users\\Online\\AppData\\Local\\Temp/ipykernel_5352/1988167162.py:1: SyntaxWarning: \"is not\" with a literal. Did you mean \"!=\"?\n",
      "  a is 100 and a is not 100\n"
     ]
    },
    {
     "data": {
      "text/plain": [
       "False"
      ]
     },
     "execution_count": 42,
     "metadata": {},
     "output_type": "execute_result"
    }
   ],
   "source": [
    "a is 100 and a is not 100"
   ]
  },
  {
   "cell_type": "code",
   "execution_count": 43,
   "id": "67b7dd49",
   "metadata": {},
   "outputs": [
    {
     "ename": "SyntaxError",
     "evalue": "invalid syntax (Temp/ipykernel_5352/1936742474.py, line 1)",
     "output_type": "error",
     "traceback": [
      "\u001b[1;36m  File \u001b[1;32m\"C:\\Users\\Online\\AppData\\Local\\Temp/ipykernel_5352/1936742474.py\"\u001b[1;36m, line \u001b[1;32m1\u001b[0m\n\u001b[1;33m    a == 100 and a ! 100\u001b[0m\n\u001b[1;37m                   ^\u001b[0m\n\u001b[1;31mSyntaxError\u001b[0m\u001b[1;31m:\u001b[0m invalid syntax\n"
     ]
    }
   ],
   "source": [
    "a == 100 and a ! 100"
   ]
  },
  {
   "cell_type": "code",
   "execution_count": 44,
   "id": "4e85a46b",
   "metadata": {},
   "outputs": [
    {
     "data": {
      "text/plain": [
       "False"
      ]
     },
     "execution_count": 44,
     "metadata": {},
     "output_type": "execute_result"
    }
   ],
   "source": [
    "a==100 and a!=100"
   ]
  },
  {
   "cell_type": "markdown",
   "id": "477d2b2b",
   "metadata": {},
   "source": [
    "### membership operators"
   ]
  },
  {
   "cell_type": "code",
   "execution_count": 45,
   "id": "b40a36c3",
   "metadata": {},
   "outputs": [
    {
     "data": {
      "text/plain": [
       "True"
      ]
     },
     "execution_count": 45,
     "metadata": {},
     "output_type": "execute_result"
    }
   ],
   "source": [
    "s=[1,2,4,6,8,9]\n",
    "4 in s"
   ]
  },
  {
   "cell_type": "code",
   "execution_count": 48,
   "id": "b6563e1d",
   "metadata": {},
   "outputs": [
    {
     "data": {
      "text/plain": [
       "True"
      ]
     },
     "execution_count": 48,
     "metadata": {},
     "output_type": "execute_result"
    }
   ],
   "source": [
    "s=[2,3,4,5,6,7]\n",
    "1 not in s"
   ]
  },
  {
   "cell_type": "code",
   "execution_count": 49,
   "id": "b5676d53",
   "metadata": {},
   "outputs": [
    {
     "data": {
      "text/plain": [
       "21"
      ]
     },
     "execution_count": 49,
     "metadata": {},
     "output_type": "execute_result"
    }
   ],
   "source": [
    "a=20\n",
    "a=a+1\n",
    "a"
   ]
  },
  {
   "cell_type": "code",
   "execution_count": 52,
   "id": "8aa61346",
   "metadata": {},
   "outputs": [
    {
     "ename": "SyntaxError",
     "evalue": "invalid syntax (Temp/ipykernel_5352/3796606838.py, line 2)",
     "output_type": "error",
     "traceback": [
      "\u001b[1;36m  File \u001b[1;32m\"C:\\Users\\Online\\AppData\\Local\\Temp/ipykernel_5352/3796606838.py\"\u001b[1;36m, line \u001b[1;32m2\u001b[0m\n\u001b[1;33m    a+=1  ---->a=a+1\u001b[0m\n\u001b[1;37m             ^\u001b[0m\n\u001b[1;31mSyntaxError\u001b[0m\u001b[1;31m:\u001b[0m invalid syntax\n"
     ]
    }
   ],
   "source": [
    "a=45\n",
    "a+=1  ---->a=a+1\n",
    "a-=1  ---->a=a-1\n",
    "a*=1  ---->a=a*1\n",
    "a/=1  ---->a=a/1"
   ]
  },
  {
   "cell_type": "code",
   "execution_count": 51,
   "id": "d2ef0894",
   "metadata": {},
   "outputs": [
    {
     "data": {
      "text/plain": [
       "46"
      ]
     },
     "execution_count": 51,
     "metadata": {},
     "output_type": "execute_result"
    }
   ],
   "source": [
    "a"
   ]
  },
  {
   "cell_type": "markdown",
   "id": "bea45c9c",
   "metadata": {},
   "source": [
    "### flow control"
   ]
  },
  {
   "cell_type": "markdown",
   "id": "e98c2795",
   "metadata": {},
   "source": [
    "- condational statements(if,else,else if,nestedif)\n",
    "- loop(for,while)\n",
    "- break,return"
   ]
  },
  {
   "cell_type": "code",
   "execution_count": 54,
   "id": "d4d88c74",
   "metadata": {},
   "outputs": [
    {
     "ename": "SyntaxError",
     "evalue": "invalid syntax (Temp/ipykernel_5352/2350266133.py, line 2)",
     "output_type": "error",
     "traceback": [
      "\u001b[1;36m  File \u001b[1;32m\"C:\\Users\\Online\\AppData\\Local\\Temp/ipykernel_5352/2350266133.py\"\u001b[1;36m, line \u001b[1;32m2\u001b[0m\n\u001b[1;33m    if(condition){\u001b[0m\n\u001b[1;37m                 ^\u001b[0m\n\u001b[1;31mSyntaxError\u001b[0m\u001b[1;31m:\u001b[0m invalid syntax\n"
     ]
    }
   ],
   "source": [
    "# c-language\n",
    "if(condition){\n",
    "    print(a)\n",
    "}"
   ]
  },
  {
   "cell_type": "code",
   "execution_count": null,
   "id": "a7614b65",
   "metadata": {},
   "outputs": [],
   "source": [
    "#if\n",
    "if (condation):\n",
    "    statement1\n",
    "    statement2\n",
    "    statement3\n",
    "    ---------\n",
    "    statementn\n",
    "    "
   ]
  },
  {
   "cell_type": "code",
   "execution_count": null,
   "id": "0d7fae31",
   "metadata": {},
   "outputs": [],
   "source": [
    "#if-else\n",
    "if (condation):\n",
    "    statement1\n",
    "    statement2\n",
    "    statement3\n",
    "    ---------\n",
    "    statementn\n",
    "else:\n",
    "    statement1\n",
    "    statement2\n",
    "    ---------\n",
    "    statementn"
   ]
  },
  {
   "cell_type": "code",
   "execution_count": 55,
   "id": "da8a8f08",
   "metadata": {},
   "outputs": [
    {
     "name": "stdout",
     "output_type": "stream",
     "text": [
      "False\n"
     ]
    }
   ],
   "source": [
    "if 2>3:\n",
    "    print(\"True\")\n",
    "else:\n",
    "    print(\"False\")"
   ]
  },
  {
   "cell_type": "code",
   "execution_count": 56,
   "id": "31294b8b",
   "metadata": {},
   "outputs": [
    {
     "name": "stdout",
     "output_type": "stream",
     "text": [
      "enter the number23\n",
      "odd number\n"
     ]
    }
   ],
   "source": [
    "# given number is even or odd\n",
    "n=int(input(\"enter the number\"))\n",
    "if(n%2==0):\n",
    "    print(\"even number\")\n",
    "else:\n",
    "    print(\"odd number\")\n"
   ]
  },
  {
   "cell_type": "code",
   "execution_count": 57,
   "id": "c7a0b143",
   "metadata": {},
   "outputs": [
    {
     "name": "stdout",
     "output_type": "stream",
     "text": [
      "enter the number22\n",
      "even number\n"
     ]
    }
   ],
   "source": [
    "# given number is even or odd\n",
    "n=int(input(\"enter the number\"))\n",
    "if(n%2==0):\n",
    "    print(\"even number\")\n",
    "else:\n",
    "    print(\"odd number\")\n"
   ]
  },
  {
   "cell_type": "code",
   "execution_count": 63,
   "id": "6b388f08",
   "metadata": {},
   "outputs": [
    {
     "name": "stdout",
     "output_type": "stream",
     "text": [
      "enter value33\n",
      "positive\n"
     ]
    }
   ],
   "source": [
    "#given number is zero or positive or negarive\n",
    "n=int(input(\"enter value\"))\n",
    "if(n==0):\n",
    "    print(\"zero\")\n",
    "elif(n>0):\n",
    "    print(\"positive\")\n",
    "else:\n",
    "    print(\"negative\")"
   ]
  },
  {
   "cell_type": "code",
   "execution_count": 61,
   "id": "c525a054",
   "metadata": {},
   "outputs": [
    {
     "data": {
      "text/plain": [
       "33"
      ]
     },
     "execution_count": 61,
     "metadata": {},
     "output_type": "execute_result"
    }
   ],
   "source": [
    "33\n"
   ]
  },
  {
   "cell_type": "code",
   "execution_count": 64,
   "id": "274a8708",
   "metadata": {},
   "outputs": [
    {
     "name": "stdout",
     "output_type": "stream",
     "text": [
      "enter value32\n",
      "positive\n"
     ]
    }
   ],
   "source": [
    "#given number is zero or positive or negarive\n",
    "n=int(input(\"enter value\"))\n",
    "if(n==0):\n",
    "    print(\"zero\")\n",
    "elif(n>0):\n",
    "    print(\"positive\")\n",
    "else:\n",
    "    print(\"negative\")"
   ]
  },
  {
   "cell_type": "code",
   "execution_count": 65,
   "id": "8ccc5d61",
   "metadata": {},
   "outputs": [
    {
     "name": "stdout",
     "output_type": "stream",
     "text": [
      "enter value0\n",
      "zero\n"
     ]
    }
   ],
   "source": [
    "#given number is zero or positive or negarive\n",
    "n=int(input(\"enter value\"))\n",
    "if(n==0):\n",
    "    print(\"zero\")\n",
    "elif(n>0):\n",
    "    print(\"positive\")\n",
    "else:\n",
    "    print(\"negative\")"
   ]
  },
  {
   "cell_type": "code",
   "execution_count": 67,
   "id": "35dc4462",
   "metadata": {},
   "outputs": [
    {
     "name": "stdout",
     "output_type": "stream",
     "text": [
      "invalid number\n"
     ]
    }
   ],
   "source": [
    "# number is divisible by 2 but not divisible by 10\n",
    "a=23\n",
    "if a%2==0 and a%10!=0:\n",
    "    print(\"valid number\")\n",
    "else:\n",
    "    print(\"invalid number\")"
   ]
  },
  {
   "cell_type": "markdown",
   "id": "745de3f0",
   "metadata": {},
   "source": [
    "### Range\n",
    "- systax for the range is range(start,envalue,step value)\n",
    "- starting value is inclusive and end value is exculsive\n"
   ]
  },
  {
   "cell_type": "code",
   "execution_count": null,
   "id": "81a30dc3",
   "metadata": {},
   "outputs": [],
   "source": [
    "range(start,end,step)"
   ]
  },
  {
   "cell_type": "code",
   "execution_count": null,
   "id": "edd5e893",
   "metadata": {},
   "outputs": [],
   "source": [
    "range(10,20,1)\n",
    "# 10,11,12,13,14,15,16,17,18,19\n",
    "range(20,30,2)\n",
    "# 20,22,24,26,28\n",
    "range(20,41,5)\n",
    "# 25,30,35,40\n",
    "range(50)\n",
    "# consider start value \n",
    "range(20,30)\n",
    "# consider start value and end value\n",
    "# reverse print\n",
    "print(10,1,-1)\n"
   ]
  },
  {
   "cell_type": "code",
   "execution_count": 68,
   "id": "c5281556",
   "metadata": {},
   "outputs": [
    {
     "ename": "ValueError",
     "evalue": "range() arg 3 must not be zero",
     "output_type": "error",
     "traceback": [
      "\u001b[1;31m---------------------------------------------------------------------------\u001b[0m",
      "\u001b[1;31mValueError\u001b[0m                                Traceback (most recent call last)",
      "\u001b[1;32m~\\AppData\\Local\\Temp/ipykernel_5352/1923587205.py\u001b[0m in \u001b[0;36m<module>\u001b[1;34m\u001b[0m\n\u001b[1;32m----> 1\u001b[1;33m \u001b[0mlist\u001b[0m\u001b[1;33m(\u001b[0m\u001b[0mrange\u001b[0m\u001b[1;33m(\u001b[0m\u001b[1;36m20\u001b[0m\u001b[1;33m,\u001b[0m\u001b[1;36m30\u001b[0m\u001b[1;33m,\u001b[0m\u001b[1;36m0\u001b[0m\u001b[1;33m)\u001b[0m\u001b[1;33m)\u001b[0m\u001b[1;33m\u001b[0m\u001b[1;33m\u001b[0m\u001b[0m\n\u001b[0m",
      "\u001b[1;31mValueError\u001b[0m: range() arg 3 must not be zero"
     ]
    }
   ],
   "source": [
    "list(range(20,30,0))"
   ]
  },
  {
   "cell_type": "code",
   "execution_count": 69,
   "id": "d642a31b",
   "metadata": {},
   "outputs": [
    {
     "data": {
      "text/plain": [
       "[20, 21, 22, 23, 24, 25, 26, 27, 28, 29]"
      ]
     },
     "execution_count": 69,
     "metadata": {},
     "output_type": "execute_result"
    }
   ],
   "source": [
    "list(range(20,30,1))"
   ]
  },
  {
   "cell_type": "code",
   "execution_count": 70,
   "id": "439505fb",
   "metadata": {},
   "outputs": [
    {
     "data": {
      "text/plain": [
       "[0, 1, 2, 3, 4, 5, 6, 7, 8, 9]"
      ]
     },
     "execution_count": 70,
     "metadata": {},
     "output_type": "execute_result"
    }
   ],
   "source": [
    "list(range(10))"
   ]
  },
  {
   "cell_type": "code",
   "execution_count": 71,
   "id": "76190293",
   "metadata": {},
   "outputs": [
    {
     "data": {
      "text/plain": [
       "[20, 21, 22, 23, 24, 25, 26, 27, 28, 29]"
      ]
     },
     "execution_count": 71,
     "metadata": {},
     "output_type": "execute_result"
    }
   ],
   "source": [
    "list(range(20,30))"
   ]
  },
  {
   "cell_type": "code",
   "execution_count": 72,
   "id": "d5f0877c",
   "metadata": {},
   "outputs": [
    {
     "data": {
      "text/plain": [
       "[0, 1, 2, 3, 4, 5, 6, 7, 8, 9]"
      ]
     },
     "execution_count": 72,
     "metadata": {},
     "output_type": "execute_result"
    }
   ],
   "source": [
    "list(range(10))"
   ]
  },
  {
   "cell_type": "code",
   "execution_count": 73,
   "id": "4ae60e8c",
   "metadata": {},
   "outputs": [
    {
     "data": {
      "text/plain": [
       "[10, 9, 8, 7, 6, 5, 4, 3, 2]"
      ]
     },
     "execution_count": 73,
     "metadata": {},
     "output_type": "execute_result"
    }
   ],
   "source": [
    "list(range(10,1,-1))"
   ]
  },
  {
   "cell_type": "code",
   "execution_count": 74,
   "id": "63d240ae",
   "metadata": {},
   "outputs": [
    {
     "data": {
      "text/plain": [
       "[-1]"
      ]
     },
     "execution_count": 74,
     "metadata": {},
     "output_type": "execute_result"
    }
   ],
   "source": [
    "list(range(-1,1,10))"
   ]
  },
  {
   "cell_type": "code",
   "execution_count": 75,
   "id": "2a8ca56a",
   "metadata": {},
   "outputs": [
    {
     "data": {
      "text/plain": [
       "[0]"
      ]
     },
     "execution_count": 75,
     "metadata": {},
     "output_type": "execute_result"
    }
   ],
   "source": [
    "list(range(0,1,10))"
   ]
  },
  {
   "cell_type": "markdown",
   "id": "447f7753",
   "metadata": {},
   "source": [
    "### loops\n",
    "- for,while"
   ]
  },
  {
   "cell_type": "code",
   "execution_count": 76,
   "id": "c2245e9d",
   "metadata": {},
   "outputs": [
    {
     "ename": "SyntaxError",
     "evalue": "invalid syntax (Temp/ipykernel_5352/260338397.py, line 1)",
     "output_type": "error",
     "traceback": [
      "\u001b[1;36m  File \u001b[1;32m\"C:\\Users\\Online\\AppData\\Local\\Temp/ipykernel_5352/260338397.py\"\u001b[1;36m, line \u001b[1;32m1\u001b[0m\n\u001b[1;33m    - for loop:::A for loop in python is a control flow statement that is used to repeatedly execute a group osf statements as long as the condition is satisfied.such a type of statement is also known as an iterative therefore,a for loop is an iterative statement.\u001b[0m\n\u001b[1;37m      ^\u001b[0m\n\u001b[1;31mSyntaxError\u001b[0m\u001b[1;31m:\u001b[0m invalid syntax\n"
     ]
    }
   ],
   "source": [
    "- for loop:::A for loop in python is a control flow statement that is used to repeatedly execute a group osf statements as long as the condition is satisfied.such a type of statement is also known as an iterative therefore,a for loop is an iterative statement."
   ]
  },
  {
   "cell_type": "code",
   "execution_count": 77,
   "id": "46b749fb",
   "metadata": {},
   "outputs": [
    {
     "ename": "SyntaxError",
     "evalue": "invalid syntax (Temp/ipykernel_5352/3060002986.py, line 1)",
     "output_type": "error",
     "traceback": [
      "\u001b[1;36m  File \u001b[1;32m\"C:\\Users\\Online\\AppData\\Local\\Temp/ipykernel_5352/3060002986.py\"\u001b[1;36m, line \u001b[1;32m1\u001b[0m\n\u001b[1;33m    syntax:::\u001b[0m\n\u001b[1;37m           ^\u001b[0m\n\u001b[1;31mSyntaxError\u001b[0m\u001b[1;31m:\u001b[0m invalid syntax\n"
     ]
    }
   ],
   "source": [
    "syntax:::\n",
    "            for iter in iterable: # range predefined function in the position of iterable\n",
    "                statement1\n",
    "                statement2\n",
    "                statement3\n",
    "            "
   ]
  },
  {
   "cell_type": "code",
   "execution_count": 79,
   "id": "4b3a687a",
   "metadata": {},
   "outputs": [
    {
     "name": "stdout",
     "output_type": "stream",
     "text": [
      "0\n",
      "1\n",
      "2\n",
      "3\n",
      "4\n"
     ]
    }
   ],
   "source": [
    "for i in range(5):\n",
    "    print(i)"
   ]
  },
  {
   "cell_type": "code",
   "execution_count": 80,
   "id": "2525df9a",
   "metadata": {},
   "outputs": [
    {
     "name": "stdout",
     "output_type": "stream",
     "text": [
      "0 2 4 6 8 10 12 14 16 18 20 22 24 26 28 30 32 34 36 38 40 42 44 46 48 50 52 54 56 58 60 62 64 66 68 70 72 74 76 78 80 82 84 86 88 90 92 94 96 98 100 \n",
      " even number count: 51\n"
     ]
    }
   ],
   "source": [
    "# print the even number in the range of 0 to 100\n",
    "# and print even number count\n",
    "c=0\n",
    "for i in range(0,101,2):\n",
    "    c=c+1\n",
    "    print(i,end=\" \")\n",
    "print(\"\\n even number count:\",c)    "
   ]
  },
  {
   "cell_type": "code",
   "execution_count": 84,
   "id": "78244b36",
   "metadata": {},
   "outputs": [
    {
     "ename": "IndentationError",
     "evalue": "expected an indented block (Temp/ipykernel_5352/2207183961.py, line 6)",
     "output_type": "error",
     "traceback": [
      "\u001b[1;36m  File \u001b[1;32m\"C:\\Users\\Online\\AppData\\Local\\Temp/ipykernel_5352/2207183961.py\"\u001b[1;36m, line \u001b[1;32m6\u001b[0m\n\u001b[1;33m    c=c+1\u001b[0m\n\u001b[1;37m    ^\u001b[0m\n\u001b[1;31mIndentationError\u001b[0m\u001b[1;31m:\u001b[0m expected an indented block\n"
     ]
    }
   ],
   "source": [
    "# print the even number in the range of 0 to 100\n",
    "# and print even number count\n",
    "c=0\n",
    "for i in range(0,101):\n",
    "    if i%2==0:\n",
    "    c=c+1\n",
    "    print(i,end=\" \")\n",
    "print(\"\\neven number count:\",c)    "
   ]
  },
  {
   "cell_type": "code",
   "execution_count": 85,
   "id": "528a6b5f",
   "metadata": {},
   "outputs": [
    {
     "name": "stdout",
     "output_type": "stream",
     "text": [
      "2000\n",
      "2020\n",
      "2000 2004 2008 2012 2016 2020 \n",
      "years count: 6\n"
     ]
    }
   ],
   "source": [
    "# print leep years from the range of 2000 to 2020,years count\n",
    "x=int(input())\n",
    "y=int(input())\n",
    "c=0\n",
    "for i in range(x,y+1):\n",
    "    if(i%400==0) and (i%100!=0) or (i%4==0):\n",
    "        c=c+1\n",
    "        print(i,end=\" \")\n",
    "print(\"\\nyears count:\",c)        "
   ]
  },
  {
   "cell_type": "code",
   "execution_count": 86,
   "id": "d4e851c8",
   "metadata": {},
   "outputs": [
    {
     "name": "stdout",
     "output_type": "stream",
     "text": [
      "5 * 1 = 5\n",
      "5 * 2 = 10\n",
      "5 * 3 = 15\n",
      "5 * 4 = 20\n",
      "5 * 5 = 25\n",
      "5 * 6 = 30\n",
      "5 * 7 = 35\n",
      "5 * 8 = 40\n",
      "5 * 9 = 45\n",
      "5 * 10 = 50\n"
     ]
    }
   ],
   "source": [
    "n=5\n",
    "for i in range(1,11):\n",
    "    print(n,\"*\",i,\"=\",n*i)"
   ]
  },
  {
   "cell_type": "code",
   "execution_count": 87,
   "id": "03d47679",
   "metadata": {},
   "outputs": [
    {
     "name": "stdout",
     "output_type": "stream",
     "text": [
      "10\n",
      "1 2 5 10 "
     ]
    }
   ],
   "source": [
    "# print fatctors of 5\n",
    "n=int(input())\n",
    "for i in range(1,n+1):\n",
    "    if (n%i==0):\n",
    "        print(i,end=\" \")"
   ]
  },
  {
   "cell_type": "code",
   "execution_count": 88,
   "id": "79f58522",
   "metadata": {},
   "outputs": [
    {
     "name": "stdout",
     "output_type": "stream",
     "text": [
      "200\n",
      "1 2 4 5 8 10 20 25 40 50 100 200 "
     ]
    }
   ],
   "source": [
    "# print fatctors of 5\n",
    "n=int(input())\n",
    "for i in range(1,n+1):\n",
    "    if (n%i==0):\n",
    "        print(i,end=\" \")"
   ]
  },
  {
   "cell_type": "code",
   "execution_count": 90,
   "id": "a5e57ecd",
   "metadata": {},
   "outputs": [
    {
     "name": "stdout",
     "output_type": "stream",
     "text": [
      "abc\n",
      "294\n"
     ]
    }
   ],
   "source": [
    "# I/P=abc\n",
    "# 97+98+97=292\n",
    "# o/p 295\n",
    "a=input()\n",
    "s=0\n",
    "for  i in a:\n",
    "    s=s+ord(i)\n",
    "print(s)    "
   ]
  },
  {
   "cell_type": "code",
   "execution_count": 92,
   "id": "56de7ee5",
   "metadata": {},
   "outputs": [
    {
     "name": "stdout",
     "output_type": "stream",
     "text": [
      "5\n",
      "prime number\n"
     ]
    }
   ],
   "source": [
    "# check the given number is prime or not\n",
    "n=int(input())\n",
    "c=0\n",
    "for i in range(1,n+1):\n",
    "    if(n%i==0):\n",
    "        c=c+1\n",
    "if(c==2):\n",
    "    print(\"prime number\")\n",
    "else:   \n",
    "    print(\"not prime number\")"
   ]
  },
  {
   "cell_type": "code",
   "execution_count": 100,
   "id": "97ff0ea2",
   "metadata": {},
   "outputs": [
    {
     "name": "stdout",
     "output_type": "stream",
     "text": [
      "0\n",
      "10\n",
      "even number are: 1 3 5 7 9 \n",
      "odd number are: 1 3 5 7 9 "
     ]
    }
   ],
   "source": [
    "# check the given number is even to print \n",
    "c=10\n",
    "# even number\n",
    "# prime number\n",
    "s=int(input())\n",
    "e=int(input())\n",
    "print(\"even number are:\",end=\" \")\n",
    "for i in range(s,e+1):\n",
    "    if i%2--0:\n",
    "        print(i,end=\" \")\n",
    "print(\"\\nodd number are:\",end=\" \")\n",
    "for i in range(s,e+1):\n",
    "    if i%2!=0:\n",
    "        print(i,end=\" \")"
   ]
  },
  {
   "cell_type": "code",
   "execution_count": 99,
   "id": "3ae24d20",
   "metadata": {},
   "outputs": [
    {
     "name": "stdout",
     "output_type": "stream",
     "text": [
      "odd number\n"
     ]
    }
   ],
   "source": [
    "# check the given number is even to print \n",
    "c=258\n",
    "# even number\n",
    "# odd number\n",
    "for i in range(1,n+1):\n",
    "    if(n%i==0):\n",
    "        c=c+1\n",
    "if(c==2):\n",
    "    print(\"even number\")\n",
    "else:\n",
    "    print(\"odd number\")"
   ]
  },
  {
   "cell_type": "code",
   "execution_count": null,
   "id": "7a2d130b",
   "metadata": {},
   "outputs": [],
   "source": []
  }
 ],
 "metadata": {
  "kernelspec": {
   "display_name": "Python 3 (ipykernel)",
   "language": "python",
   "name": "python3"
  },
  "language_info": {
   "codemirror_mode": {
    "name": "ipython",
    "version": 3
   },
   "file_extension": ".py",
   "mimetype": "text/x-python",
   "name": "python",
   "nbconvert_exporter": "python",
   "pygments_lexer": "ipython3",
   "version": "3.9.7"
  }
 },
 "nbformat": 4,
 "nbformat_minor": 5
}
